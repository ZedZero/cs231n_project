{
 "cells": [
  {
   "cell_type": "code",
   "execution_count": 1,
   "metadata": {
    "collapsed": true
   },
   "outputs": [],
   "source": [
    "%matplotlib inline"
   ]
  },
  {
   "cell_type": "code",
   "execution_count": 2,
   "metadata": {
    "collapsed": true
   },
   "outputs": [],
   "source": [
    "import numpy as np\n",
    "import pandas as pd"
   ]
  },
  {
   "cell_type": "code",
   "execution_count": 77,
   "metadata": {
    "collapsed": true
   },
   "outputs": [],
   "source": [
    "def generate_train_val_splits(direction):\n",
    "    steerings = pd.read_csv(\"./Ch2/{}.csv\".format(direction), dtype={'angle': np.double, \n",
    "                                                                     'torque': np.double, \n",
    "                                                                     'speed': np.double})\n",
    "    x = [0]\n",
    "    prev_ts = 0\n",
    "    index = 0\n",
    "    data_slices = []\n",
    "    for row in steerings.iterrows():\n",
    "        current_ts = int(row[1][\"timestamp\"]/1e6)\n",
    "        delta = current_ts-prev_ts\n",
    "        prev_ts = current_ts\n",
    "        if delta > 60:\n",
    "            #print index, x[-1]\n",
    "            data_slices.append(steerings[x[-1]:index].reset_index())\n",
    "            x.append(index)\n",
    "        index += 1\n",
    "    data_slices.append(steerings[x[-1]:index].reset_index())\n",
    "    \n",
    "    for ix,d in enumerate(data_slices[1:]):\n",
    "        l = len(d)\n",
    "        tr = int(0.9*l)\n",
    "        print \"Writing sets for driver{} to data/train_{}_{} and data/val_{}_{}\".format(ix, direction, ix, direction, ix)\n",
    "        del d['level_0']\n",
    "        d[:tr].reset_index().to_csv(\"data/train_{}_{}.csv\".format(direction, ix), index=False, \n",
    "                                    header=True, columns=('index', 'timestamp', 'filename', \n",
    "                                                                       'angle', 'torque', 'speed'))\n",
    "        d[tr:].reset_index().to_csv(\"data/val_{}_{}.csv\".format(direction, ix), index=False, \n",
    "                                    header=True, columns=('index', 'timestamp', 'filename', \n",
    "                                                                       'angle', 'torque', 'speed'))    "
   ]
  },
  {
   "cell_type": "code",
   "execution_count": 78,
   "metadata": {
    "collapsed": false
   },
   "outputs": [
    {
     "name": "stdout",
     "output_type": "stream",
     "text": [
      "Writing sets for driver0 to data/train_center_0 and data/val_center_0\n",
      "Writing sets for driver1 to data/train_center_1 and data/val_center_1\n",
      "Writing sets for driver2 to data/train_center_2 and data/val_center_2\n",
      "Writing sets for driver3 to data/train_center_3 and data/val_center_3\n",
      "Writing sets for driver4 to data/train_center_4 and data/val_center_4\n"
     ]
    }
   ],
   "source": [
    "generate_train_val_splits('center')"
   ]
  },
  {
   "cell_type": "code",
   "execution_count": 79,
   "metadata": {
    "collapsed": false,
    "scrolled": false
   },
   "outputs": [
    {
     "name": "stdout",
     "output_type": "stream",
     "text": [
      "Writing sets for driver0 to data/train_left_0 and data/val_left_0\n",
      "Writing sets for driver1 to data/train_left_1 and data/val_left_1\n",
      "Writing sets for driver2 to data/train_left_2 and data/val_left_2\n",
      "Writing sets for driver3 to data/train_left_3 and data/val_left_3\n",
      "Writing sets for driver4 to data/train_left_4 and data/val_left_4\n"
     ]
    }
   ],
   "source": [
    "generate_train_val_splits('left')"
   ]
  },
  {
   "cell_type": "code",
   "execution_count": 80,
   "metadata": {
    "collapsed": false,
    "scrolled": true
   },
   "outputs": [
    {
     "name": "stdout",
     "output_type": "stream",
     "text": [
      "Writing sets for driver0 to data/train_right_0 and data/val_right_0\n",
      "Writing sets for driver1 to data/train_right_1 and data/val_right_1\n",
      "Writing sets for driver2 to data/train_right_2 and data/val_right_2\n",
      "Writing sets for driver3 to data/train_right_3 and data/val_right_3\n",
      "Writing sets for driver4 to data/train_right_4 and data/val_right_4\n",
      "Writing sets for driver5 to data/train_right_5 and data/val_right_5\n"
     ]
    }
   ],
   "source": [
    "generate_train_val_splits('right')"
   ]
  },
  {
   "cell_type": "markdown",
   "metadata": {},
   "source": [
    "##### Exploring some data"
   ]
  },
  {
   "cell_type": "code",
   "execution_count": 95,
   "metadata": {
    "collapsed": true
   },
   "outputs": [],
   "source": [
    "df = pd.read_csv(\"data/train_center_1.csv\")"
   ]
  },
  {
   "cell_type": "code",
   "execution_count": 96,
   "metadata": {
    "collapsed": false
   },
   "outputs": [
    {
     "data": {
      "text/plain": [
       "<matplotlib.axes._subplots.AxesSubplot at 0x1254f4090>"
      ]
     },
     "execution_count": 96,
     "metadata": {},
     "output_type": "execute_result"
    },
    {
     "data": {
      "image/png": "[encoded data removed]",
      "text/plain": [
       "<matplotlib.figure.Figure at 0x12015d390>"
      ]
     },
     "metadata": {},
     "output_type": "display_data"
    }
   ],
   "source": [
    "df['angle'].plot('hist', bins=1000)"
   ]
  },
  {
   "cell_type": "code",
   "execution_count": 89,
   "metadata": {
    "collapsed": false
   },
   "outputs": [
    {
     "data": {
      "text/plain": [
       "<matplotlib.axes._subplots.AxesSubplot at 0x11e4b3bd0>"
      ]
     },
     "execution_count": 89,
     "metadata": {},
     "output_type": "execute_result"
    },
    {
     "data": {
      "image/png": "[encoded data removed]",
      "text/plain": [
       "<matplotlib.figure.Figure at 0x11e37ec90>"
      ]
     },
     "metadata": {},
     "output_type": "display_data"
    }
   ],
   "source": [
    "df['speed'].plot('hist', bins=1000)"
   ]
  },
  {
   "cell_type": "code",
   "execution_count": 92,
   "metadata": {
    "collapsed": false
   },
   "outputs": [
    {
     "data": {
      "text/plain": [
       "<matplotlib.axes._subplots.AxesSubplot at 0x12296ef90>"
      ]
     },
     "execution_count": 92,
     "metadata": {},
     "output_type": "execute_result"
    },
    {
     "data": {
      "image/png": "[encoded data removed]",
      "text/plain": [
       "<matplotlib.figure.Figure at 0x123b650d0>"
      ]
     },
     "metadata": {},
     "output_type": "display_data"
    }
   ],
   "source": [
    "df['torque'].plot('hist', bins=1000)"
   ]
  },
  {
   "cell_type": "code",
   "execution_count": null,
   "metadata": {
    "collapsed": false
   },
   "outputs": [],
   "source": []
  },
  {
   "cell_type": "code",
   "execution_count": null,
   "metadata": {
    "collapsed": true
   },
   "outputs": [],
   "source": []
  }
 ],
 "metadata": {
  "kernelspec": {
   "display_name": "Python 2",
   "language": "python",
   "name": "python2"
  },
  "language_info": {
   "codemirror_mode": {
    "name": "ipython",
    "version": 2
   },
   "file_extension": ".py",
   "mimetype": "text/x-python",
   "name": "python",
   "nbconvert_exporter": "python",
   "pygments_lexer": "ipython2",
   "version": "2.7.11"
  }
 },
 "nbformat": 4,
 "nbformat_minor": 0
}
